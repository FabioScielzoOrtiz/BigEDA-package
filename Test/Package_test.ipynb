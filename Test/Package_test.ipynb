{
 "cells": [
  {
   "cell_type": "code",
   "execution_count": 1,
   "metadata": {},
   "outputs": [
    {
     "name": "stdout",
     "output_type": "stream",
     "text": [
      "Requirement already satisfied: BigEDA in c:\\users\\fscielzo\\anaconda3\\lib\\site-packages (0.0.7)\n",
      "Collecting BigEDA\n",
      "  Downloading BigEDA-0.0.8-py3-none-any.whl.metadata (870 bytes)\n",
      "Requirement already satisfied: pandas in c:\\users\\fscielzo\\anaconda3\\lib\\site-packages (from BigEDA) (2.0.3)\n",
      "Requirement already satisfied: numpy in c:\\users\\fscielzo\\anaconda3\\lib\\site-packages (from BigEDA) (1.24.3)\n",
      "Requirement already satisfied: python-dateutil>=2.8.2 in c:\\users\\fscielzo\\appdata\\roaming\\python\\python311\\site-packages (from pandas->BigEDA) (2.8.2)\n",
      "Requirement already satisfied: pytz>=2020.1 in c:\\users\\fscielzo\\anaconda3\\lib\\site-packages (from pandas->BigEDA) (2023.3.post1)\n",
      "Requirement already satisfied: tzdata>=2022.1 in c:\\users\\fscielzo\\anaconda3\\lib\\site-packages (from pandas->BigEDA) (2023.3)\n",
      "Requirement already satisfied: six>=1.5 in c:\\users\\fscielzo\\appdata\\roaming\\python\\python311\\site-packages (from python-dateutil>=2.8.2->pandas->BigEDA) (1.16.0)\n",
      "Downloading BigEDA-0.0.8-py3-none-any.whl (17 kB)\n",
      "Installing collected packages: BigEDA\n",
      "  Attempting uninstall: BigEDA\n",
      "    Found existing installation: BigEDA 0.0.7\n",
      "    Uninstalling BigEDA-0.0.7:\n",
      "      Successfully uninstalled BigEDA-0.0.7\n",
      "Successfully installed BigEDA-0.0.8\n",
      "Note: you may need to restart the kernel to use updated packages.\n"
     ]
    }
   ],
   "source": [
    "pip install BigEDA --upgrade"
   ]
  },
  {
   "cell_type": "code",
   "execution_count": 2,
   "metadata": {},
   "outputs": [
    {
     "name": "stdout",
     "output_type": "stream",
     "text": [
      "Name: BigEDA\n",
      "Version: 0.0.8\n",
      "Summary: This is a package to carry out Exploratory Data Analysis, allowing to work with Big Data.\n",
      "Home-page: https://github.com/FabioScielzoOrtiz/EDA_Package\n",
      "Author: Fabio Scielzo Ortiz\n",
      "Author-email: fabioscielzo98@gmail.com\n",
      "License: \n",
      "Location: c:\\Users\\fscielzo\\anaconda3\\Lib\\site-packages\n",
      "Requires: numpy, pandas\n",
      "Required-by: \n",
      "Note: you may need to restart the kernel to use updated packages.\n"
     ]
    }
   ],
   "source": [
    "pip show BigEDA"
   ]
  },
  {
   "cell_type": "code",
   "execution_count": 5,
   "metadata": {},
   "outputs": [],
   "source": [
    "from BigEDA.preprocessing import prop_cols_nulls"
   ]
  },
  {
   "cell_type": "code",
   "execution_count": 6,
   "metadata": {},
   "outputs": [
    {
     "data": {
      "text/plain": [
       "<function BigEDA.preprocessing.prop_cols_nulls(X)>"
      ]
     },
     "execution_count": 6,
     "metadata": {},
     "output_type": "execute_result"
    }
   ],
   "source": [
    "prop_cols_nulls"
   ]
  }
 ],
 "metadata": {
  "kernelspec": {
   "display_name": "Python 3",
   "language": "python",
   "name": "python3"
  },
  "language_info": {
   "codemirror_mode": {
    "name": "ipython",
    "version": 3
   },
   "file_extension": ".py",
   "mimetype": "text/x-python",
   "name": "python",
   "nbconvert_exporter": "python",
   "pygments_lexer": "ipython3",
   "version": "3.11.5"
  }
 },
 "nbformat": 4,
 "nbformat_minor": 2
}
