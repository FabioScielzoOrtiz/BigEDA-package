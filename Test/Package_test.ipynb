{
 "cells": [
  {
   "cell_type": "code",
   "execution_count": 1,
   "metadata": {},
   "outputs": [
    {
     "name": "stdout",
     "output_type": "stream",
     "text": [
      "Collecting BigEDA==0.0.25\n",
      "  Downloading BigEDA-0.0.25-py3-none-any.whl.metadata (990 bytes)\n",
      "Requirement already satisfied: pandas in c:\\users\\fscielzo\\anaconda3\\lib\\site-packages (from BigEDA==0.0.25) (2.0.3)\n",
      "Requirement already satisfied: numpy in c:\\users\\fscielzo\\anaconda3\\lib\\site-packages (from BigEDA==0.0.25) (1.24.3)\n",
      "Requirement already satisfied: polars in c:\\users\\fscielzo\\anaconda3\\lib\\site-packages (from BigEDA==0.0.25) (0.20.15)\n",
      "Requirement already satisfied: scipy in c:\\users\\fscielzo\\anaconda3\\lib\\site-packages (from BigEDA==0.0.25) (1.11.1)\n",
      "Requirement already satisfied: seaborn in c:\\users\\fscielzo\\anaconda3\\lib\\site-packages (from BigEDA==0.0.25) (0.13.2)\n",
      "Requirement already satisfied: matplotlib in c:\\users\\fscielzo\\anaconda3\\lib\\site-packages (from BigEDA==0.0.25) (3.7.2)\n",
      "Requirement already satisfied: plotly in c:\\users\\fscielzo\\anaconda3\\lib\\site-packages (from BigEDA==0.0.25) (5.9.0)\n",
      "Requirement already satisfied: contourpy>=1.0.1 in c:\\users\\fscielzo\\anaconda3\\lib\\site-packages (from matplotlib->BigEDA==0.0.25) (1.0.5)\n",
      "Requirement already satisfied: cycler>=0.10 in c:\\users\\fscielzo\\anaconda3\\lib\\site-packages (from matplotlib->BigEDA==0.0.25) (0.11.0)\n",
      "Requirement already satisfied: fonttools>=4.22.0 in c:\\users\\fscielzo\\anaconda3\\lib\\site-packages (from matplotlib->BigEDA==0.0.25) (4.25.0)\n",
      "Requirement already satisfied: kiwisolver>=1.0.1 in c:\\users\\fscielzo\\anaconda3\\lib\\site-packages (from matplotlib->BigEDA==0.0.25) (1.4.4)\n",
      "Requirement already satisfied: packaging>=20.0 in c:\\users\\fscielzo\\appdata\\roaming\\python\\python311\\site-packages (from matplotlib->BigEDA==0.0.25) (23.2)\n",
      "Requirement already satisfied: pillow>=6.2.0 in c:\\users\\fscielzo\\anaconda3\\lib\\site-packages (from matplotlib->BigEDA==0.0.25) (9.4.0)\n",
      "Requirement already satisfied: pyparsing<3.1,>=2.3.1 in c:\\users\\fscielzo\\anaconda3\\lib\\site-packages (from matplotlib->BigEDA==0.0.25) (3.0.9)\n",
      "Requirement already satisfied: python-dateutil>=2.7 in c:\\users\\fscielzo\\appdata\\roaming\\python\\python311\\site-packages (from matplotlib->BigEDA==0.0.25) (2.8.2)\n",
      "Requirement already satisfied: pytz>=2020.1 in c:\\users\\fscielzo\\anaconda3\\lib\\site-packages (from pandas->BigEDA==0.0.25) (2023.3.post1)\n",
      "Requirement already satisfied: tzdata>=2022.1 in c:\\users\\fscielzo\\anaconda3\\lib\\site-packages (from pandas->BigEDA==0.0.25) (2023.3)\n",
      "Requirement already satisfied: tenacity>=6.2.0 in c:\\users\\fscielzo\\anaconda3\\lib\\site-packages (from plotly->BigEDA==0.0.25) (8.2.2)\n",
      "Requirement already satisfied: six>=1.5 in c:\\users\\fscielzo\\appdata\\roaming\\python\\python311\\site-packages (from python-dateutil>=2.7->matplotlib->BigEDA==0.0.25) (1.16.0)\n",
      "Downloading BigEDA-0.0.25-py3-none-any.whl (18 kB)\n",
      "Installing collected packages: BigEDA\n",
      "  Attempting uninstall: BigEDA\n",
      "    Found existing installation: BigEDA 0.0.24\n",
      "    Uninstalling BigEDA-0.0.24:\n",
      "      Successfully uninstalled BigEDA-0.0.24\n",
      "Successfully installed BigEDA-0.0.25\n",
      "Note: you may need to restart the kernel to use updated packages.\n"
     ]
    }
   ],
   "source": [
    "pip install BigEDA==0.0.25"
   ]
  },
  {
   "cell_type": "code",
   "execution_count": 2,
   "metadata": {},
   "outputs": [
    {
     "name": "stdout",
     "output_type": "stream",
     "text": [
      "Name: BigEDANote: you may need to restart the kernel to use updated packages.\n",
      "\n",
      "Version: 0.0.25\n",
      "Summary: This is a package to carry out Exploratory Data Analysis, allowing to work with Big Data.\n",
      "Home-page: https://github.com/FabioScielzoOrtiz/EDA_Package\n",
      "Author: Fabio Scielzo Ortiz\n",
      "Author-email: fabioscielzo98@gmail.com\n",
      "License: \n",
      "Location: c:\\Users\\fscielzo\\anaconda3\\Lib\\site-packages\n",
      "Requires: matplotlib, numpy, pandas, plotly, polars, scipy, seaborn\n",
      "Required-by: \n"
     ]
    }
   ],
   "source": [
    "pip show BigEDA"
   ]
  },
  {
   "cell_type": "code",
   "execution_count": 3,
   "metadata": {},
   "outputs": [],
   "source": [
    "from BigEDA.preprocessing import prop_cols_nulls"
   ]
  },
  {
   "cell_type": "code",
   "execution_count": 4,
   "metadata": {},
   "outputs": [
    {
     "data": {
      "text/plain": [
       "<function BigEDA.preprocessing.prop_cols_nulls(X)>"
      ]
     },
     "execution_count": 4,
     "metadata": {},
     "output_type": "execute_result"
    }
   ],
   "source": [
    "prop_cols_nulls"
   ]
  }
 ],
 "metadata": {
  "kernelspec": {
   "display_name": "Python 3",
   "language": "python",
   "name": "python3"
  },
  "language_info": {
   "codemirror_mode": {
    "name": "ipython",
    "version": 3
   },
   "file_extension": ".py",
   "mimetype": "text/x-python",
   "name": "python",
   "nbconvert_exporter": "python",
   "pygments_lexer": "ipython3",
   "version": "3.11.5"
  }
 },
 "nbformat": 4,
 "nbformat_minor": 2
}
