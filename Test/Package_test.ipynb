{
 "cells": [
  {
   "cell_type": "code",
   "execution_count": 3,
   "metadata": {},
   "outputs": [
    {
     "name": "stdout",
     "output_type": "stream",
     "text": [
      "Collecting BigEDA==0.0.10\n",
      "  Using cached BigEDA-0.0.10-py3-none-any.whl.metadata (1.0 kB)\n",
      "Requirement already satisfied: pandas in c:\\users\\fscielzo\\anaconda3\\lib\\site-packages (from BigEDA==0.0.10) (2.0.3)\n",
      "Requirement already satisfied: numpy in c:\\users\\fscielzo\\anaconda3\\lib\\site-packages (from BigEDA==0.0.10) (1.24.3)\n",
      "Requirement already satisfied: polars in c:\\users\\fscielzo\\anaconda3\\lib\\site-packages (from BigEDA==0.0.10) (0.20.15)\n",
      "Requirement already satisfied: scipy in c:\\users\\fscielzo\\anaconda3\\lib\\site-packages (from BigEDA==0.0.10) (1.11.1)\n",
      "INFO: pip is looking at multiple versions of bigeda to determine which version is compatible with other requirements. This could take a while.\n",
      "Note: you may need to restart the kernel to use updated packages.\n"
     ]
    },
    {
     "name": "stderr",
     "output_type": "stream",
     "text": [
      "ERROR: Could not find a version that satisfies the requirement collections (from bigeda) (from versions: none)\n",
      "ERROR: No matching distribution found for collections\n"
     ]
    }
   ],
   "source": [
    "pip install BigEDA==0.0.10"
   ]
  },
  {
   "cell_type": "code",
   "execution_count": 2,
   "metadata": {},
   "outputs": [
    {
     "name": "stdout",
     "output_type": "stream",
     "text": [
      "Name: BigEDANote: you may need to restart the kernel to use updated packages.\n",
      "\n",
      "Version: 0.0.8\n",
      "Summary: This is a package to carry out Exploratory Data Analysis, allowing to work with Big Data.\n",
      "Home-page: https://github.com/FabioScielzoOrtiz/EDA_Package\n",
      "Author: Fabio Scielzo Ortiz\n",
      "Author-email: fabioscielzo98@gmail.com\n",
      "License: \n",
      "Location: c:\\Users\\fscielzo\\anaconda3\\Lib\\site-packages\n",
      "Requires: numpy, pandas\n",
      "Required-by: \n"
     ]
    }
   ],
   "source": [
    "pip show BigEDA"
   ]
  },
  {
   "cell_type": "code",
   "execution_count": 3,
   "metadata": {},
   "outputs": [],
   "source": [
    "from BigEDA.preprocessing import prop_cols_nulls"
   ]
  },
  {
   "cell_type": "code",
   "execution_count": 4,
   "metadata": {},
   "outputs": [
    {
     "data": {
      "text/plain": [
       "<function BigEDA.preprocessing.prop_cols_nulls(X)>"
      ]
     },
     "execution_count": 4,
     "metadata": {},
     "output_type": "execute_result"
    }
   ],
   "source": [
    "prop_cols_nulls"
   ]
  }
 ],
 "metadata": {
  "kernelspec": {
   "display_name": "Python 3",
   "language": "python",
   "name": "python3"
  },
  "language_info": {
   "codemirror_mode": {
    "name": "ipython",
    "version": 3
   },
   "file_extension": ".py",
   "mimetype": "text/x-python",
   "name": "python",
   "nbconvert_exporter": "python",
   "pygments_lexer": "ipython3",
   "version": "3.11.5"
  }
 },
 "nbformat": 4,
 "nbformat_minor": 2
}
