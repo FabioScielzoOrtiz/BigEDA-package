{
 "cells": [
  {
   "cell_type": "code",
   "execution_count": 1,
   "metadata": {},
   "outputs": [
    {
     "name": "stdout",
     "output_type": "stream",
     "text": [
      "Note: you may need to restart the kernel to use updated packages.\n"
     ]
    },
    {
     "name": "stderr",
     "output_type": "stream",
     "text": [
      "ERROR: Could not find a version that satisfies the requirement BigEDA==0.0.11 (from versions: 0.0.1, 0.0.5, 0.0.6, 0.0.7, 0.0.8, 0.0.9, 0.0.10)\n",
      "ERROR: No matching distribution found for BigEDA==0.0.11\n"
     ]
    }
   ],
   "source": [
    "pip install BigEDA==0.0.11"
   ]
  },
  {
   "cell_type": "code",
   "execution_count": 2,
   "metadata": {},
   "outputs": [
    {
     "name": "stdout",
     "output_type": "stream",
     "text": [
      "Name: BigEDANote: you may need to restart the kernel to use updated packages.\n",
      "\n",
      "Version: 0.0.8\n",
      "Summary: This is a package to carry out Exploratory Data Analysis, allowing to work with Big Data.\n",
      "Home-page: https://github.com/FabioScielzoOrtiz/EDA_Package\n",
      "Author: Fabio Scielzo Ortiz\n",
      "Author-email: fabioscielzo98@gmail.com\n",
      "License: \n",
      "Location: c:\\Users\\fscielzo\\anaconda3\\Lib\\site-packages\n",
      "Requires: numpy, pandas\n",
      "Required-by: \n"
     ]
    }
   ],
   "source": [
    "pip show BigEDA"
   ]
  },
  {
   "cell_type": "code",
   "execution_count": 3,
   "metadata": {},
   "outputs": [],
   "source": [
    "from BigEDA.preprocessing import prop_cols_nulls"
   ]
  },
  {
   "cell_type": "code",
   "execution_count": 4,
   "metadata": {},
   "outputs": [
    {
     "data": {
      "text/plain": [
       "<function BigEDA.preprocessing.prop_cols_nulls(X)>"
      ]
     },
     "execution_count": 4,
     "metadata": {},
     "output_type": "execute_result"
    }
   ],
   "source": [
    "prop_cols_nulls"
   ]
  }
 ],
 "metadata": {
  "kernelspec": {
   "display_name": "Python 3",
   "language": "python",
   "name": "python3"
  },
  "language_info": {
   "codemirror_mode": {
    "name": "ipython",
    "version": 3
   },
   "file_extension": ".py",
   "mimetype": "text/x-python",
   "name": "python",
   "nbconvert_exporter": "python",
   "pygments_lexer": "ipython3",
   "version": "3.11.5"
  }
 },
 "nbformat": 4,
 "nbformat_minor": 2
}
